{
  "nbformat": 4,
  "nbformat_minor": 0,
  "metadata": {
    "colab": {
      "name": "sorting.ipynb",
      "provenance": [],
      "collapsed_sections": [],
      "toc_visible": true
    },
    "kernelspec": {
      "name": "python3",
      "display_name": "Python 3"
    },
    "language_info": {
      "name": "python"
    }
  },
  "cells": [
    {
      "cell_type": "code",
      "execution_count": null,
      "metadata": {
        "colab": {
          "base_uri": "https://localhost:8080/"
        },
        "id": "KA-p5hFFgrxB",
        "outputId": "584ad158-e499-4837-d85d-975fd54eeebd"
      },
      "outputs": [
        {
          "output_type": "stream",
          "name": "stdout",
          "text": [
            "found :  f\n",
            "Lenght of list 'List' =   5\n"
          ]
        }
      ],
      "source": [
        "alphabets = [\"a\", \"b\", \"c\", \"d\", \"e\", \"f\", \"g\", \"h\", \"i\", \"j\", \"k\", \"l\", \"m\", \"n\", \"o\", \"p\", \"q\", \"r\", \"s\", \"t\", \"u\", \"v\", \"w\", \"x\", \"y\", \"z\"]\n",
        "\n",
        "lists  = [\"f\", \"h\", \"m\", \"i\", \"t\", \"o\"]\n",
        "\n",
        "# x is the particular value of a field in the list\n",
        "# it is initialized as the default value 0 which represents \"a\" in the list 'alphabets'\n",
        "x = 0\n",
        "\n",
        "# a is the particular value of a field in the list\n",
        "# it is initialized as the default value 0 which represents \"f\" in the list 'lists'\n",
        "a = 0\n",
        "\n",
        "lenght_of_lists = len(lists)\n",
        "# As lenght of list starts from 0 the variable must be 1 less\n",
        "lenght_of_lists = lenght_of_lists - 1\n",
        "\n",
        "particular_alphabet_in_list_alphabets = alphabets[x]\n",
        "\n",
        "particular_alphabet_in_list_lists = lists[a]\n",
        "\n",
        "for particular_alphabet_in_list_alphabets in particular_alphabet_in_list_lists:\n",
        "  if particular_alphabet_in_list_alphabets == particular_alphabet_in_list_lists:\n",
        "    break\n",
        "  else:\n",
        "    x = x + 1\n",
        "print(\"found : \", particular_alphabet_in_list_alphabets)\n",
        "\n",
        "print(\"Lenght of list 'List' =  \", lenght_of_lists)\n",
        "\n",
        "\n",
        "# while a == lenght_of_lists:\n",
        "#   for particular_alphabet_in_list_alphabets in particular_alphabet_in_list_lists:\n",
        "#     if particular_alphabet_in_list_alphabets == particular_alphabet_in_list_lists:\n",
        "#       print(\"Found:- \", particular_alphabet_in_list_lists)\n",
        "#       break\n",
        "#     else:\n",
        "#       x = x + 1\n",
        "#   print(\"found : \", particular_alphabet_in_list_lists)\n",
        "#   a = a + 1\n",
        "\n",
        "\n",
        "\n"
      ]
    },
    {
      "cell_type": "code",
      "source": [
        "while (a<=lenght_of_lists):\n",
        "  for particular_alphabet_in_list_lists in particular_alphabet_in_list_alphabets:\n",
        "    if particular_alphabet_in_list_lists == particular_alphabet_in_list_alphabets:\n",
        "      print(\"hello\", particular_alphabet_in_list_alphabets)\n",
        "      break\n",
        "    else:\n",
        "      print(\"found\", particular_alphabet_in_list_lists)\n",
        "      x = x + 1\n",
        "  a = a + 1\n",
        "  print(particular_alphabet_in_list_lists)"
      ],
      "metadata": {
        "colab": {
          "base_uri": "https://localhost:8080/"
        },
        "id": "EbA4Yoxtggf6",
        "outputId": "4182669a-15a1-4116-8100-cbf90498c9d5"
      },
      "execution_count": null,
      "outputs": [
        {
          "output_type": "stream",
          "name": "stdout",
          "text": [
            "hello f\n",
            "f\n",
            "hello f\n",
            "f\n",
            "hello f\n",
            "f\n",
            "hello f\n",
            "f\n",
            "hello f\n",
            "f\n",
            "hello f\n",
            "f\n"
          ]
        }
      ]
    },
    {
      "cell_type": "code",
      "source": [
        "alphabets = [\"a\", \"b\", \"c\", \"d\", \"e\", \"f\", \"g\", \"h\", \"i\", \"j\", \"k\", \"l\", \"m\", \"n\", \"o\", \"p\", \"q\", \"r\", \"s\", \"t\", \"u\", \"v\", \"w\", \"x\", \"y\", \"z\", \n",
        "             \"A\", \"B\", \"C\", \"D\", \"E\", \"F\", \"G\", \"G\", \"I\", \"J\", \"K\", \"L\", \"M\", \"N\", \"O\", \"P\", \"Q\", \"R\", \"S\", \"T\", \"U\", \"V\", \"W\", \"X\", \"Y\", \"Z\"]\n",
        "\n",
        "lists  = [\"f\", \"h\", \"m\", \"i\", \"t\", \"o\", \"T\", \"M\"]\n",
        "x = 0\n",
        "a = 0\n",
        "\n",
        "\n",
        "lenght_of_lists = len(lists)\n",
        "lenght_of_lists = lenght_of_lists - 1\n",
        "\n",
        "\n",
        "while (a<=lenght_of_lists):\n",
        "  for alphabets[x] in lists[a]:\n",
        "    if alphabets[x] == lists[a]:\n",
        "      break\n",
        "    else:\n",
        "      x = x + 1\n",
        "  print(\"found : \", alphabets[x])\n",
        "  a = a + 1\n",
        "\n",
        "print(\"Lenght of list 'List' =  \", lenght_of_lists)"
      ],
      "metadata": {
        "colab": {
          "base_uri": "https://localhost:8080/"
        },
        "id": "c-NDuLtoeLPB",
        "outputId": "f7fc4bfa-3445-43ee-c8a8-5f446aa436ca"
      },
      "execution_count": null,
      "outputs": [
        {
          "output_type": "stream",
          "name": "stdout",
          "text": [
            "found :  f\n",
            "found :  h\n",
            "found :  m\n",
            "found :  i\n",
            "found :  t\n",
            "found :  o\n",
            "found :  T\n",
            "found :  M\n",
            "Lenght of list 'List' =   7\n"
          ]
        }
      ]
    },
    {
      "cell_type": "code",
      "source": [
        "alphabets = [\"a\", \"b\", \"c\", \"d\", \"e\", \"f\", \"g\", \"h\", \"i\", \"j\", \"k\", \"l\", \"m\", \"n\", \"o\", \"p\", \"q\", \"r\", \"s\", \"t\", \"u\", \"v\", \"w\", \"x\", \"y\", \"z\", \n",
        "             \"A\", \"B\", \"C\", \"D\", \"E\", \"F\", \"G\", \"G\", \"I\", \"J\", \"K\", \"L\", \"M\", \"N\", \"O\", \"P\", \"Q\", \"R\", \"S\", \"T\", \"U\", \"V\", \"W\", \"X\", \"Y\", \"Z\"]\n",
        "\n",
        "lists  = [\"f\", \"h\", \"m\", \"i\", \"t\", \"o\", \"T\", \"M\"]\n",
        "x = 0\n",
        "a = 0\n",
        "\n",
        "\n",
        "lenght_of_lists = len(lists)\n",
        "lenght_of_lists = lenght_of_lists - 1\n",
        "print(len(alphabets[3]))\n",
        "\n",
        "while (a<=lenght_of_lists):\n",
        "  for alphabets[x] in lists[a]:\n",
        "    if alphabets[x] == lists[a]:\n",
        "      break\n",
        "    else:\n",
        "      x = x + 1\n",
        "  print(\"found : \", alphabets[x])\n",
        "  a = a + 1\n",
        "\n",
        "print(\"Lenght of list 'List' =  \", lenght_of_lists)"
      ],
      "metadata": {
        "colab": {
          "base_uri": "https://localhost:8080/"
        },
        "id": "dScLknd6WjG-",
        "outputId": "72b2eaf7-54b9-48be-b1a2-0a29086d6386"
      },
      "execution_count": null,
      "outputs": [
        {
          "output_type": "stream",
          "name": "stdout",
          "text": [
            "1\n",
            "found :  f\n",
            "found :  h\n",
            "found :  m\n",
            "found :  i\n",
            "found :  t\n",
            "found :  o\n",
            "found :  T\n",
            "found :  M\n",
            "Lenght of list 'List' =   7\n"
          ]
        }
      ]
    }
  ]
}